{
  "nbformat": 4,
  "nbformat_minor": 0,
  "metadata": {
    "colab": {
      "name": "regression project.ipynb",
      "provenance": []
    },
    "kernelspec": {
      "name": "python3",
      "display_name": "Python 3"
    },
    "language_info": {
      "name": "python"
    }
  },
  "cells": [
    {
      "cell_type": "markdown",
      "metadata": {
        "id": "ycQsp6yE1hQ9"
      },
      "source": [
        "**Linear Regression Project**"
      ]
    },
    {
      "cell_type": "markdown",
      "metadata": {
        "id": "NNohbXbe1htJ"
      },
      "source": [
        "Import the required libraries"
      ]
    },
    {
      "cell_type": "code",
      "metadata": {
        "id": "p5dqNa0f1zj-"
      },
      "source": [
        "import pandas as pd\n",
        "import numpy as np\n",
        "import matplotlib.pyplot as plt\n",
        "import seaborn as sns"
      ],
      "execution_count": 2,
      "outputs": []
    },
    {
      "cell_type": "markdown",
      "metadata": {
        "id": "ANbAjBoL2AW7"
      },
      "source": [
        "Read Csv file"
      ]
    },
    {
      "cell_type": "code",
      "metadata": {
        "colab": {
          "base_uri": "https://localhost:8080/",
          "height": 347
        },
        "id": "DH0FVQJB2Dgv",
        "outputId": "28f9a99f-dbc6-496d-9be4-ba30f83263b2"
      },
      "source": [
        "data= pd.read_csv('/content/SeoulBikeData.csv')\n",
        "data.head()"
      ],
      "execution_count": 5,
      "outputs": [
        {
          "output_type": "execute_result",
          "data": {
            "text/html": [
              "<div>\n",
              "<style scoped>\n",
              "    .dataframe tbody tr th:only-of-type {\n",
              "        vertical-align: middle;\n",
              "    }\n",
              "\n",
              "    .dataframe tbody tr th {\n",
              "        vertical-align: top;\n",
              "    }\n",
              "\n",
              "    .dataframe thead th {\n",
              "        text-align: right;\n",
              "    }\n",
              "</style>\n",
              "<table border=\"1\" class=\"dataframe\">\n",
              "  <thead>\n",
              "    <tr style=\"text-align: right;\">\n",
              "      <th></th>\n",
              "      <th>Date</th>\n",
              "      <th>Rented Bike Count</th>\n",
              "      <th>Hour</th>\n",
              "      <th>Temperature(C)</th>\n",
              "      <th>Humidity(%)</th>\n",
              "      <th>Wind speed (m/s)</th>\n",
              "      <th>Visibility (10m)</th>\n",
              "      <th>Dew point temperature(C)</th>\n",
              "      <th>Solar Radiation (MJ/m2)</th>\n",
              "      <th>Rainfall(mm)</th>\n",
              "      <th>Snowfall (cm)</th>\n",
              "      <th>Seasons</th>\n",
              "      <th>Holiday</th>\n",
              "      <th>Functioning Day</th>\n",
              "    </tr>\n",
              "  </thead>\n",
              "  <tbody>\n",
              "    <tr>\n",
              "      <th>0</th>\n",
              "      <td>01/12/2017</td>\n",
              "      <td>254</td>\n",
              "      <td>0</td>\n",
              "      <td>-5.2</td>\n",
              "      <td>37</td>\n",
              "      <td>2.2</td>\n",
              "      <td>2000</td>\n",
              "      <td>-17.6</td>\n",
              "      <td>0.0</td>\n",
              "      <td>0.0</td>\n",
              "      <td>0.0</td>\n",
              "      <td>Winter</td>\n",
              "      <td>No Holiday</td>\n",
              "      <td>Yes</td>\n",
              "    </tr>\n",
              "    <tr>\n",
              "      <th>1</th>\n",
              "      <td>01/12/2017</td>\n",
              "      <td>204</td>\n",
              "      <td>1</td>\n",
              "      <td>-5.5</td>\n",
              "      <td>38</td>\n",
              "      <td>0.8</td>\n",
              "      <td>2000</td>\n",
              "      <td>-17.6</td>\n",
              "      <td>0.0</td>\n",
              "      <td>0.0</td>\n",
              "      <td>0.0</td>\n",
              "      <td>Winter</td>\n",
              "      <td>No Holiday</td>\n",
              "      <td>Yes</td>\n",
              "    </tr>\n",
              "    <tr>\n",
              "      <th>2</th>\n",
              "      <td>01/12/2017</td>\n",
              "      <td>173</td>\n",
              "      <td>2</td>\n",
              "      <td>-6.0</td>\n",
              "      <td>39</td>\n",
              "      <td>1.0</td>\n",
              "      <td>2000</td>\n",
              "      <td>-17.7</td>\n",
              "      <td>0.0</td>\n",
              "      <td>0.0</td>\n",
              "      <td>0.0</td>\n",
              "      <td>Winter</td>\n",
              "      <td>No Holiday</td>\n",
              "      <td>Yes</td>\n",
              "    </tr>\n",
              "    <tr>\n",
              "      <th>3</th>\n",
              "      <td>01/12/2017</td>\n",
              "      <td>107</td>\n",
              "      <td>3</td>\n",
              "      <td>-6.2</td>\n",
              "      <td>40</td>\n",
              "      <td>0.9</td>\n",
              "      <td>2000</td>\n",
              "      <td>-17.6</td>\n",
              "      <td>0.0</td>\n",
              "      <td>0.0</td>\n",
              "      <td>0.0</td>\n",
              "      <td>Winter</td>\n",
              "      <td>No Holiday</td>\n",
              "      <td>Yes</td>\n",
              "    </tr>\n",
              "    <tr>\n",
              "      <th>4</th>\n",
              "      <td>01/12/2017</td>\n",
              "      <td>78</td>\n",
              "      <td>4</td>\n",
              "      <td>-6.0</td>\n",
              "      <td>36</td>\n",
              "      <td>2.3</td>\n",
              "      <td>2000</td>\n",
              "      <td>-18.6</td>\n",
              "      <td>0.0</td>\n",
              "      <td>0.0</td>\n",
              "      <td>0.0</td>\n",
              "      <td>Winter</td>\n",
              "      <td>No Holiday</td>\n",
              "      <td>Yes</td>\n",
              "    </tr>\n",
              "  </tbody>\n",
              "</table>\n",
              "</div>"
            ],
            "text/plain": [
              "         Date  Rented Bike Count  Hour  ...  Seasons     Holiday  Functioning Day\n",
              "0  01/12/2017                254     0  ...   Winter  No Holiday              Yes\n",
              "1  01/12/2017                204     1  ...   Winter  No Holiday              Yes\n",
              "2  01/12/2017                173     2  ...   Winter  No Holiday              Yes\n",
              "3  01/12/2017                107     3  ...   Winter  No Holiday              Yes\n",
              "4  01/12/2017                 78     4  ...   Winter  No Holiday              Yes\n",
              "\n",
              "[5 rows x 14 columns]"
            ]
          },
          "metadata": {},
          "execution_count": 5
        }
      ]
    },
    {
      "cell_type": "code",
      "metadata": {
        "colab": {
          "base_uri": "https://localhost:8080/"
        },
        "id": "XbVlDQDj2gmW",
        "outputId": "7f19c7f4-981d-4607-a0a6-99379a8945bf"
      },
      "source": [
        "# check shape of data\n",
        "data.shape"
      ],
      "execution_count": 6,
      "outputs": [
        {
          "output_type": "execute_result",
          "data": {
            "text/plain": [
              "(8760, 14)"
            ]
          },
          "metadata": {},
          "execution_count": 6
        }
      ]
    },
    {
      "cell_type": "code",
      "metadata": {
        "colab": {
          "base_uri": "https://localhost:8080/",
          "height": 363
        },
        "id": "RAo2Bz2V2mak",
        "outputId": "68f3fc1e-f257-42c1-92ee-32ceaa274e8a"
      },
      "source": [
        "data.describe().T"
      ],
      "execution_count": 7,
      "outputs": [
        {
          "output_type": "execute_result",
          "data": {
            "text/html": [
              "<div>\n",
              "<style scoped>\n",
              "    .dataframe tbody tr th:only-of-type {\n",
              "        vertical-align: middle;\n",
              "    }\n",
              "\n",
              "    .dataframe tbody tr th {\n",
              "        vertical-align: top;\n",
              "    }\n",
              "\n",
              "    .dataframe thead th {\n",
              "        text-align: right;\n",
              "    }\n",
              "</style>\n",
              "<table border=\"1\" class=\"dataframe\">\n",
              "  <thead>\n",
              "    <tr style=\"text-align: right;\">\n",
              "      <th></th>\n",
              "      <th>count</th>\n",
              "      <th>mean</th>\n",
              "      <th>std</th>\n",
              "      <th>min</th>\n",
              "      <th>25%</th>\n",
              "      <th>50%</th>\n",
              "      <th>75%</th>\n",
              "      <th>max</th>\n",
              "    </tr>\n",
              "  </thead>\n",
              "  <tbody>\n",
              "    <tr>\n",
              "      <th>Rented Bike Count</th>\n",
              "      <td>8760.0</td>\n",
              "      <td>704.602055</td>\n",
              "      <td>644.997468</td>\n",
              "      <td>0.0</td>\n",
              "      <td>191.00</td>\n",
              "      <td>504.50</td>\n",
              "      <td>1065.25</td>\n",
              "      <td>3556.00</td>\n",
              "    </tr>\n",
              "    <tr>\n",
              "      <th>Hour</th>\n",
              "      <td>8760.0</td>\n",
              "      <td>11.500000</td>\n",
              "      <td>6.922582</td>\n",
              "      <td>0.0</td>\n",
              "      <td>5.75</td>\n",
              "      <td>11.50</td>\n",
              "      <td>17.25</td>\n",
              "      <td>23.00</td>\n",
              "    </tr>\n",
              "    <tr>\n",
              "      <th>Temperature(C)</th>\n",
              "      <td>8760.0</td>\n",
              "      <td>12.882922</td>\n",
              "      <td>11.944825</td>\n",
              "      <td>-17.8</td>\n",
              "      <td>3.50</td>\n",
              "      <td>13.70</td>\n",
              "      <td>22.50</td>\n",
              "      <td>39.40</td>\n",
              "    </tr>\n",
              "    <tr>\n",
              "      <th>Humidity(%)</th>\n",
              "      <td>8760.0</td>\n",
              "      <td>58.226256</td>\n",
              "      <td>20.362413</td>\n",
              "      <td>0.0</td>\n",
              "      <td>42.00</td>\n",
              "      <td>57.00</td>\n",
              "      <td>74.00</td>\n",
              "      <td>98.00</td>\n",
              "    </tr>\n",
              "    <tr>\n",
              "      <th>Wind speed (m/s)</th>\n",
              "      <td>8760.0</td>\n",
              "      <td>1.724909</td>\n",
              "      <td>1.036300</td>\n",
              "      <td>0.0</td>\n",
              "      <td>0.90</td>\n",
              "      <td>1.50</td>\n",
              "      <td>2.30</td>\n",
              "      <td>7.40</td>\n",
              "    </tr>\n",
              "    <tr>\n",
              "      <th>Visibility (10m)</th>\n",
              "      <td>8760.0</td>\n",
              "      <td>1436.825799</td>\n",
              "      <td>608.298712</td>\n",
              "      <td>27.0</td>\n",
              "      <td>940.00</td>\n",
              "      <td>1698.00</td>\n",
              "      <td>2000.00</td>\n",
              "      <td>2000.00</td>\n",
              "    </tr>\n",
              "    <tr>\n",
              "      <th>Dew point temperature(C)</th>\n",
              "      <td>8760.0</td>\n",
              "      <td>4.073813</td>\n",
              "      <td>13.060369</td>\n",
              "      <td>-30.6</td>\n",
              "      <td>-4.70</td>\n",
              "      <td>5.10</td>\n",
              "      <td>14.80</td>\n",
              "      <td>27.20</td>\n",
              "    </tr>\n",
              "    <tr>\n",
              "      <th>Solar Radiation (MJ/m2)</th>\n",
              "      <td>8760.0</td>\n",
              "      <td>0.569111</td>\n",
              "      <td>0.868746</td>\n",
              "      <td>0.0</td>\n",
              "      <td>0.00</td>\n",
              "      <td>0.01</td>\n",
              "      <td>0.93</td>\n",
              "      <td>3.52</td>\n",
              "    </tr>\n",
              "    <tr>\n",
              "      <th>Rainfall(mm)</th>\n",
              "      <td>8760.0</td>\n",
              "      <td>0.148687</td>\n",
              "      <td>1.128193</td>\n",
              "      <td>0.0</td>\n",
              "      <td>0.00</td>\n",
              "      <td>0.00</td>\n",
              "      <td>0.00</td>\n",
              "      <td>35.00</td>\n",
              "    </tr>\n",
              "    <tr>\n",
              "      <th>Snowfall (cm)</th>\n",
              "      <td>8760.0</td>\n",
              "      <td>0.075068</td>\n",
              "      <td>0.436746</td>\n",
              "      <td>0.0</td>\n",
              "      <td>0.00</td>\n",
              "      <td>0.00</td>\n",
              "      <td>0.00</td>\n",
              "      <td>8.80</td>\n",
              "    </tr>\n",
              "  </tbody>\n",
              "</table>\n",
              "</div>"
            ],
            "text/plain": [
              "                           count         mean  ...      75%      max\n",
              "Rented Bike Count         8760.0   704.602055  ...  1065.25  3556.00\n",
              "Hour                      8760.0    11.500000  ...    17.25    23.00\n",
              "Temperature(C)            8760.0    12.882922  ...    22.50    39.40\n",
              "Humidity(%)               8760.0    58.226256  ...    74.00    98.00\n",
              "Wind speed (m/s)          8760.0     1.724909  ...     2.30     7.40\n",
              "Visibility (10m)          8760.0  1436.825799  ...  2000.00  2000.00\n",
              "Dew point temperature(C)  8760.0     4.073813  ...    14.80    27.20\n",
              "Solar Radiation (MJ/m2)   8760.0     0.569111  ...     0.93     3.52\n",
              "Rainfall(mm)              8760.0     0.148687  ...     0.00    35.00\n",
              "Snowfall (cm)             8760.0     0.075068  ...     0.00     8.80\n",
              "\n",
              "[10 rows x 8 columns]"
            ]
          },
          "metadata": {},
          "execution_count": 7
        }
      ]
    },
    {
      "cell_type": "code",
      "metadata": {
        "colab": {
          "base_uri": "https://localhost:8080/"
        },
        "id": "iCXO5Fk43L5o",
        "outputId": "c3d6355e-a84a-4c3b-9d60-595c534afe29"
      },
      "source": [
        "data.info()"
      ],
      "execution_count": 8,
      "outputs": [
        {
          "output_type": "stream",
          "name": "stdout",
          "text": [
            "<class 'pandas.core.frame.DataFrame'>\n",
            "RangeIndex: 8760 entries, 0 to 8759\n",
            "Data columns (total 14 columns):\n",
            " #   Column                    Non-Null Count  Dtype  \n",
            "---  ------                    --------------  -----  \n",
            " 0   Date                      8760 non-null   object \n",
            " 1   Rented Bike Count         8760 non-null   int64  \n",
            " 2   Hour                      8760 non-null   int64  \n",
            " 3   Temperature(C)            8760 non-null   float64\n",
            " 4   Humidity(%)               8760 non-null   int64  \n",
            " 5   Wind speed (m/s)          8760 non-null   float64\n",
            " 6   Visibility (10m)          8760 non-null   int64  \n",
            " 7   Dew point temperature(C)  8760 non-null   float64\n",
            " 8   Solar Radiation (MJ/m2)   8760 non-null   float64\n",
            " 9   Rainfall(mm)              8760 non-null   float64\n",
            " 10  Snowfall (cm)             8760 non-null   float64\n",
            " 11  Seasons                   8760 non-null   object \n",
            " 12  Holiday                   8760 non-null   object \n",
            " 13  Functioning Day           8760 non-null   object \n",
            "dtypes: float64(6), int64(4), object(4)\n",
            "memory usage: 958.2+ KB\n"
          ]
        }
      ]
    },
    {
      "cell_type": "markdown",
      "metadata": {
        "id": "zSMG2hCx4vHC"
      },
      "source": [
        "1. What are the factors that influence the number of bikes rented?"
      ]
    },
    {
      "cell_type": "code",
      "metadata": {
        "colab": {
          "base_uri": "https://localhost:8080/"
        },
        "id": "Ei2H00zd42yt",
        "outputId": "22651669-5b8e-46f3-db6e-9c087fa177bc"
      },
      "source": [
        "# other than date time, more or less every features of data influencing the number of bike rented\n",
        "data_inf= data.columns[2:]\n",
        "data_inf"
      ],
      "execution_count": 9,
      "outputs": [
        {
          "output_type": "execute_result",
          "data": {
            "text/plain": [
              "Index(['Hour', 'Temperature(C)', 'Humidity(%)', 'Wind speed (m/s)',\n",
              "       'Visibility (10m)', 'Dew point temperature(C)',\n",
              "       'Solar Radiation (MJ/m2)', 'Rainfall(mm)', 'Snowfall (cm)', 'Seasons',\n",
              "       'Holiday', 'Functioning Day'],\n",
              "      dtype='object')"
            ]
          },
          "metadata": {},
          "execution_count": 9
        }
      ]
    },
    {
      "cell_type": "code",
      "metadata": {
        "colab": {
          "base_uri": "https://localhost:8080/",
          "height": 487
        },
        "id": "LVnHYrym4MTy",
        "outputId": "b8d9bb40-6b81-472c-f763-6a6e08f5c885"
      },
      "source": [
        "data_corr=data.corr()\n",
        "data_corr"
      ],
      "execution_count": 10,
      "outputs": [
        {
          "output_type": "execute_result",
          "data": {
            "text/html": [
              "<div>\n",
              "<style scoped>\n",
              "    .dataframe tbody tr th:only-of-type {\n",
              "        vertical-align: middle;\n",
              "    }\n",
              "\n",
              "    .dataframe tbody tr th {\n",
              "        vertical-align: top;\n",
              "    }\n",
              "\n",
              "    .dataframe thead th {\n",
              "        text-align: right;\n",
              "    }\n",
              "</style>\n",
              "<table border=\"1\" class=\"dataframe\">\n",
              "  <thead>\n",
              "    <tr style=\"text-align: right;\">\n",
              "      <th></th>\n",
              "      <th>Rented Bike Count</th>\n",
              "      <th>Hour</th>\n",
              "      <th>Temperature(C)</th>\n",
              "      <th>Humidity(%)</th>\n",
              "      <th>Wind speed (m/s)</th>\n",
              "      <th>Visibility (10m)</th>\n",
              "      <th>Dew point temperature(C)</th>\n",
              "      <th>Solar Radiation (MJ/m2)</th>\n",
              "      <th>Rainfall(mm)</th>\n",
              "      <th>Snowfall (cm)</th>\n",
              "    </tr>\n",
              "  </thead>\n",
              "  <tbody>\n",
              "    <tr>\n",
              "      <th>Rented Bike Count</th>\n",
              "      <td>1.000000</td>\n",
              "      <td>0.410257</td>\n",
              "      <td>0.538558</td>\n",
              "      <td>-0.199780</td>\n",
              "      <td>0.121108</td>\n",
              "      <td>0.199280</td>\n",
              "      <td>0.379788</td>\n",
              "      <td>0.261837</td>\n",
              "      <td>-0.123074</td>\n",
              "      <td>-0.141804</td>\n",
              "    </tr>\n",
              "    <tr>\n",
              "      <th>Hour</th>\n",
              "      <td>0.410257</td>\n",
              "      <td>1.000000</td>\n",
              "      <td>0.124114</td>\n",
              "      <td>-0.241644</td>\n",
              "      <td>0.285197</td>\n",
              "      <td>0.098753</td>\n",
              "      <td>0.003054</td>\n",
              "      <td>0.145131</td>\n",
              "      <td>0.008715</td>\n",
              "      <td>-0.021516</td>\n",
              "    </tr>\n",
              "    <tr>\n",
              "      <th>Temperature(C)</th>\n",
              "      <td>0.538558</td>\n",
              "      <td>0.124114</td>\n",
              "      <td>1.000000</td>\n",
              "      <td>0.159371</td>\n",
              "      <td>-0.036252</td>\n",
              "      <td>0.034794</td>\n",
              "      <td>0.912798</td>\n",
              "      <td>0.353505</td>\n",
              "      <td>0.050282</td>\n",
              "      <td>-0.218405</td>\n",
              "    </tr>\n",
              "    <tr>\n",
              "      <th>Humidity(%)</th>\n",
              "      <td>-0.199780</td>\n",
              "      <td>-0.241644</td>\n",
              "      <td>0.159371</td>\n",
              "      <td>1.000000</td>\n",
              "      <td>-0.336683</td>\n",
              "      <td>-0.543090</td>\n",
              "      <td>0.536894</td>\n",
              "      <td>-0.461919</td>\n",
              "      <td>0.236397</td>\n",
              "      <td>0.108183</td>\n",
              "    </tr>\n",
              "    <tr>\n",
              "      <th>Wind speed (m/s)</th>\n",
              "      <td>0.121108</td>\n",
              "      <td>0.285197</td>\n",
              "      <td>-0.036252</td>\n",
              "      <td>-0.336683</td>\n",
              "      <td>1.000000</td>\n",
              "      <td>0.171507</td>\n",
              "      <td>-0.176486</td>\n",
              "      <td>0.332274</td>\n",
              "      <td>-0.019674</td>\n",
              "      <td>-0.003554</td>\n",
              "    </tr>\n",
              "    <tr>\n",
              "      <th>Visibility (10m)</th>\n",
              "      <td>0.199280</td>\n",
              "      <td>0.098753</td>\n",
              "      <td>0.034794</td>\n",
              "      <td>-0.543090</td>\n",
              "      <td>0.171507</td>\n",
              "      <td>1.000000</td>\n",
              "      <td>-0.176630</td>\n",
              "      <td>0.149738</td>\n",
              "      <td>-0.167629</td>\n",
              "      <td>-0.121695</td>\n",
              "    </tr>\n",
              "    <tr>\n",
              "      <th>Dew point temperature(C)</th>\n",
              "      <td>0.379788</td>\n",
              "      <td>0.003054</td>\n",
              "      <td>0.912798</td>\n",
              "      <td>0.536894</td>\n",
              "      <td>-0.176486</td>\n",
              "      <td>-0.176630</td>\n",
              "      <td>1.000000</td>\n",
              "      <td>0.094381</td>\n",
              "      <td>0.125597</td>\n",
              "      <td>-0.150887</td>\n",
              "    </tr>\n",
              "    <tr>\n",
              "      <th>Solar Radiation (MJ/m2)</th>\n",
              "      <td>0.261837</td>\n",
              "      <td>0.145131</td>\n",
              "      <td>0.353505</td>\n",
              "      <td>-0.461919</td>\n",
              "      <td>0.332274</td>\n",
              "      <td>0.149738</td>\n",
              "      <td>0.094381</td>\n",
              "      <td>1.000000</td>\n",
              "      <td>-0.074290</td>\n",
              "      <td>-0.072301</td>\n",
              "    </tr>\n",
              "    <tr>\n",
              "      <th>Rainfall(mm)</th>\n",
              "      <td>-0.123074</td>\n",
              "      <td>0.008715</td>\n",
              "      <td>0.050282</td>\n",
              "      <td>0.236397</td>\n",
              "      <td>-0.019674</td>\n",
              "      <td>-0.167629</td>\n",
              "      <td>0.125597</td>\n",
              "      <td>-0.074290</td>\n",
              "      <td>1.000000</td>\n",
              "      <td>0.008500</td>\n",
              "    </tr>\n",
              "    <tr>\n",
              "      <th>Snowfall (cm)</th>\n",
              "      <td>-0.141804</td>\n",
              "      <td>-0.021516</td>\n",
              "      <td>-0.218405</td>\n",
              "      <td>0.108183</td>\n",
              "      <td>-0.003554</td>\n",
              "      <td>-0.121695</td>\n",
              "      <td>-0.150887</td>\n",
              "      <td>-0.072301</td>\n",
              "      <td>0.008500</td>\n",
              "      <td>1.000000</td>\n",
              "    </tr>\n",
              "  </tbody>\n",
              "</table>\n",
              "</div>"
            ],
            "text/plain": [
              "                          Rented Bike Count  ...  Snowfall (cm)\n",
              "Rented Bike Count                  1.000000  ...      -0.141804\n",
              "Hour                               0.410257  ...      -0.021516\n",
              "Temperature(C)                     0.538558  ...      -0.218405\n",
              "Humidity(%)                       -0.199780  ...       0.108183\n",
              "Wind speed (m/s)                   0.121108  ...      -0.003554\n",
              "Visibility (10m)                   0.199280  ...      -0.121695\n",
              "Dew point temperature(C)           0.379788  ...      -0.150887\n",
              "Solar Radiation (MJ/m2)            0.261837  ...      -0.072301\n",
              "Rainfall(mm)                      -0.123074  ...       0.008500\n",
              "Snowfall (cm)                     -0.141804  ...       1.000000\n",
              "\n",
              "[10 rows x 10 columns]"
            ]
          },
          "metadata": {},
          "execution_count": 10
        }
      ]
    },
    {
      "cell_type": "markdown",
      "metadata": {
        "id": "BITxcsWR5tbw"
      },
      "source": [
        "2. Explore the data for outliers and missing values.\n"
      ]
    },
    {
      "cell_type": "code",
      "metadata": {
        "colab": {
          "base_uri": "https://localhost:8080/"
        },
        "id": "FzemmiYh532T",
        "outputId": "9aa706af-3e81-4395-e7f7-2218578e6f6d"
      },
      "source": [
        "#check missing values\n",
        "data_missing= data.isna().sum()\n",
        "data_missing"
      ],
      "execution_count": 11,
      "outputs": [
        {
          "output_type": "execute_result",
          "data": {
            "text/plain": [
              "Date                        0\n",
              "Rented Bike Count           0\n",
              "Hour                        0\n",
              "Temperature(C)              0\n",
              "Humidity(%)                 0\n",
              "Wind speed (m/s)            0\n",
              "Visibility (10m)            0\n",
              "Dew point temperature(C)    0\n",
              "Solar Radiation (MJ/m2)     0\n",
              "Rainfall(mm)                0\n",
              "Snowfall (cm)               0\n",
              "Seasons                     0\n",
              "Holiday                     0\n",
              "Functioning Day             0\n",
              "dtype: int64"
            ]
          },
          "metadata": {},
          "execution_count": 11
        }
      ]
    },
    {
      "cell_type": "markdown",
      "metadata": {
        "id": "z087ifUT6F60"
      },
      "source": [
        "there are no missing values in any features"
      ]
    },
    {
      "cell_type": "markdown",
      "metadata": {
        "id": "WJltt5Ek6kya"
      },
      "source": [
        "boxplot is the best way to understand outliers"
      ]
    },
    {
      "cell_type": "code",
      "metadata": {
        "id": "jLAMsIPBKVR_"
      },
      "source": [
        "import seaborn as sns\n"
      ],
      "execution_count": 12,
      "outputs": []
    },
    {
      "cell_type": "code",
      "metadata": {
        "colab": {
          "base_uri": "https://localhost:8080/",
          "height": 731
        },
        "id": "pc3DXwyNM4zh",
        "outputId": "06567559-6dd9-43ec-8c70-7916fd714078"
      },
      "source": [
        "plt.figure(figsize=(15,12))\n",
        "plt.subplot(3,4,1)\n",
        "sns.boxplot(x=data['Hour'])\n",
        "plt.subplot(3,4,2)\n",
        "sns.boxplot(x=data['Temperature(C)'])\n",
        "plt.subplot(3,4,3)\n",
        "sns.boxplot(x=data['Humidity(%)'])\n",
        "plt.subplot(3,4,4)\n",
        "sns.boxplot(x=data['Wind speed (m/s)'])\n",
        "plt.subplot(3,4,5)\n",
        "sns.boxplot(x=data['Visibility (10m)'])\n",
        "plt.subplot(3,4,6)\n",
        "sns.boxplot(x=data['Dew point temperature(C)'])\n",
        "plt.subplot(3,4,7)\n",
        "sns.boxplot(x=data['Solar Radiation (MJ/m2)'])\n",
        "plt.subplot(3,4,8)\n",
        "sns.boxplot(x=data['Rainfall(mm)'])\n",
        "plt.subplot(3,4,9)\n",
        "sns.boxplot(x=data['Snowfall (cm)'])\n"
      ],
      "execution_count": null,
      "outputs": [
        {
          "output_type": "execute_result",
          "data": {
            "text/plain": [
              "<matplotlib.axes._subplots.AxesSubplot at 0x7f34f0036610>"
            ]
          },
          "metadata": {},
          "execution_count": 13
        },
        {
          "output_type": "display_data",
          "data": {
            "image/png": "[encoded data removed]",
            "text/plain": [
              "<Figure size 1080x864 with 9 Axes>"
            ]
          },
          "metadata": {
            "needs_background": "light"
          }
        }
      ]
    },
    {
      "cell_type": "markdown",
      "metadata": {
        "id": "ldTYIyQPQ28u"
      },
      "source": [
        "here 'hours', 'temperature','humidity', 'visibility' and 'due point temperature' has no outliers.\n",
        "*   Any values in wind speed which are greater than 4.5 m/s are outliers\n",
        "*   Any values in solar radiation which are greater than 2.3 mj/m2 are outliers\n",
        "*   Any values other than 0 mm in rainfall are outliers\n",
        "*   Any values other than 0 cm in snowfall are outliers"
      ]
    },
    {
      "cell_type": "markdown",
      "metadata": {
        "id": "dOcI8ah_TbqI"
      },
      "source": [
        "3. Plot the correlation between the variables and state your comments"
      ]
    },
    {
      "cell_type": "code",
      "metadata": {
        "colab": {
          "base_uri": "https://localhost:8080/",
          "height": 668
        },
        "id": "1_L3ObX9Sh4g",
        "outputId": "ea55bee4-df22-4d4a-d3b2-762d49ba6351"
      },
      "source": [
        "plt.figure(figsize=(10,10))\n",
        "sns.heatmap(data_corr, annot=True, cmap='cubehelix_r',square=True) \n",
        "plt.show()"
      ],
      "execution_count": 13,
      "outputs": [
        {
          "output_type": "display_data",
          "data": {
            "image/png": "[encoded data removed]",
            "text/plain": [
              "<Figure size 720x720 with 2 Axes>"
            ]
          },
          "metadata": {
            "needs_background": "light"
          }
        }
      ]
    },
    {
      "cell_type": "markdown",
      "metadata": {
        "id": "h0a3EASyUNhi"
      },
      "source": [
        "From correlation heatmap it is clear that only Temperature,Hour,Dew point Temperaure and solar radiation are highly correlated with Rented bike . all other features are less correlated.temperature has a very high correlation with dew point temperature and hence both has the same variation so dew point temperature can be eliminated."
      ]
    },
    {
      "cell_type": "code",
      "metadata": {
        "id": "PmO3iM99guOL"
      },
      "source": [
        "data =data.drop(['Dew point temperature(C)'],axis=1)"
      ],
      "execution_count": 14,
      "outputs": []
    },
    {
      "cell_type": "code",
      "metadata": {
        "colab": {
          "base_uri": "https://localhost:8080/",
          "height": 228
        },
        "id": "fLItnx1tiA5k",
        "outputId": "4d8cbbf4-d78d-4fe7-a36b-10be3966bef4"
      },
      "source": [
        "dataCorr=pd.DataFrame(data.corr().unstack().sort_values(ascending=False)['Rented Bike Count'],columns=['Correlation to the target'])\n",
        "dataCorr.style.background_gradient(cmap=sns.light_palette(\"green\", as_cmap=True))"
      ],
      "execution_count": 15,
      "outputs": [
        {
          "output_type": "execute_result",
          "data": {
            "text/html": [
              "<style  type=\"text/css\" >\n",
              "#T_7d4c4766_25b1_11ec_9d6b_0242ac1c0002row0_col0{\n",
              "            background-color:  #008000;\n",
              "            color:  #f1f1f1;\n",
              "        }#T_7d4c4766_25b1_11ec_9d6b_0242ac1c0002row1_col0{\n",
              "            background-color:  #5aac5a;\n",
              "            color:  #000000;\n",
              "        }#T_7d4c4766_25b1_11ec_9d6b_0242ac1c0002row2_col0{\n",
              "            background-color:  #73b873;\n",
              "            color:  #000000;\n",
              "        }#T_7d4c4766_25b1_11ec_9d6b_0242ac1c0002row3_col0{\n",
              "            background-color:  #90c790;\n",
              "            color:  #000000;\n",
              "        }#T_7d4c4766_25b1_11ec_9d6b_0242ac1c0002row4_col0{\n",
              "            background-color:  #9ccd9c;\n",
              "            color:  #000000;\n",
              "        }#T_7d4c4766_25b1_11ec_9d6b_0242ac1c0002row5_col0{\n",
              "            background-color:  #acd4ac;\n",
              "            color:  #000000;\n",
              "        }#T_7d4c4766_25b1_11ec_9d6b_0242ac1c0002row6_col0{\n",
              "            background-color:  #dcecdc;\n",
              "            color:  #000000;\n",
              "        }#T_7d4c4766_25b1_11ec_9d6b_0242ac1c0002row7_col0{\n",
              "            background-color:  #e0eedf;\n",
              "            color:  #000000;\n",
              "        }#T_7d4c4766_25b1_11ec_9d6b_0242ac1c0002row8_col0{\n",
              "            background-color:  #ebf3eb;\n",
              "            color:  #000000;\n",
              "        }</style><table id=\"T_7d4c4766_25b1_11ec_9d6b_0242ac1c0002\" ><thead>    <tr>        <th class=\"blank level0\" ></th>        <th class=\"col_heading level0 col0\" >Correlation to the target</th>    </tr></thead><tbody>\n",
              "                <tr>\n",
              "                        <th id=\"T_7d4c4766_25b1_11ec_9d6b_0242ac1c0002level0_row0\" class=\"row_heading level0 row0\" >Rented Bike Count</th>\n",
              "                        <td id=\"T_7d4c4766_25b1_11ec_9d6b_0242ac1c0002row0_col0\" class=\"data row0 col0\" >1.000000</td>\n",
              "            </tr>\n",
              "            <tr>\n",
              "                        <th id=\"T_7d4c4766_25b1_11ec_9d6b_0242ac1c0002level0_row1\" class=\"row_heading level0 row1\" >Temperature(C)</th>\n",
              "                        <td id=\"T_7d4c4766_25b1_11ec_9d6b_0242ac1c0002row1_col0\" class=\"data row1 col0\" >0.538558</td>\n",
              "            </tr>\n",
              "            <tr>\n",
              "                        <th id=\"T_7d4c4766_25b1_11ec_9d6b_0242ac1c0002level0_row2\" class=\"row_heading level0 row2\" >Hour</th>\n",
              "                        <td id=\"T_7d4c4766_25b1_11ec_9d6b_0242ac1c0002row2_col0\" class=\"data row2 col0\" >0.410257</td>\n",
              "            </tr>\n",
              "            <tr>\n",
              "                        <th id=\"T_7d4c4766_25b1_11ec_9d6b_0242ac1c0002level0_row3\" class=\"row_heading level0 row3\" >Solar Radiation (MJ/m2)</th>\n",
              "                        <td id=\"T_7d4c4766_25b1_11ec_9d6b_0242ac1c0002row3_col0\" class=\"data row3 col0\" >0.261837</td>\n",
              "            </tr>\n",
              "            <tr>\n",
              "                        <th id=\"T_7d4c4766_25b1_11ec_9d6b_0242ac1c0002level0_row4\" class=\"row_heading level0 row4\" >Visibility (10m)</th>\n",
              "                        <td id=\"T_7d4c4766_25b1_11ec_9d6b_0242ac1c0002row4_col0\" class=\"data row4 col0\" >0.199280</td>\n",
              "            </tr>\n",
              "            <tr>\n",
              "                        <th id=\"T_7d4c4766_25b1_11ec_9d6b_0242ac1c0002level0_row5\" class=\"row_heading level0 row5\" >Wind speed (m/s)</th>\n",
              "                        <td id=\"T_7d4c4766_25b1_11ec_9d6b_0242ac1c0002row5_col0\" class=\"data row5 col0\" >0.121108</td>\n",
              "            </tr>\n",
              "            <tr>\n",
              "                        <th id=\"T_7d4c4766_25b1_11ec_9d6b_0242ac1c0002level0_row6\" class=\"row_heading level0 row6\" >Rainfall(mm)</th>\n",
              "                        <td id=\"T_7d4c4766_25b1_11ec_9d6b_0242ac1c0002row6_col0\" class=\"data row6 col0\" >-0.123074</td>\n",
              "            </tr>\n",
              "            <tr>\n",
              "                        <th id=\"T_7d4c4766_25b1_11ec_9d6b_0242ac1c0002level0_row7\" class=\"row_heading level0 row7\" >Snowfall (cm)</th>\n",
              "                        <td id=\"T_7d4c4766_25b1_11ec_9d6b_0242ac1c0002row7_col0\" class=\"data row7 col0\" >-0.141804</td>\n",
              "            </tr>\n",
              "            <tr>\n",
              "                        <th id=\"T_7d4c4766_25b1_11ec_9d6b_0242ac1c0002level0_row8\" class=\"row_heading level0 row8\" >Humidity(%)</th>\n",
              "                        <td id=\"T_7d4c4766_25b1_11ec_9d6b_0242ac1c0002row8_col0\" class=\"data row8 col0\" >-0.199780</td>\n",
              "            </tr>\n",
              "    </tbody></table>"
            ],
            "text/plain": [
              "<pandas.io.formats.style.Styler at 0x7f182010a910>"
            ]
          },
          "metadata": {},
          "execution_count": 15
        }
      ]
    },
    {
      "cell_type": "code",
      "metadata": {
        "id": "Hu1vn1jShhqU"
      },
      "source": [
        "data['Date']=pd.to_datetime(data['Date'],format=\"%d/%m/%Y\")"
      ],
      "execution_count": 16,
      "outputs": []
    },
    {
      "cell_type": "code",
      "metadata": {
        "colab": {
          "base_uri": "https://localhost:8080/",
          "height": 347
        },
        "id": "Aw0lNr5vhRmw",
        "outputId": "eb045306-780f-4e7c-9e3f-2db93316f806"
      },
      "source": [
        "data.head()"
      ],
      "execution_count": 17,
      "outputs": [
        {
          "output_type": "execute_result",
          "data": {
            "text/html": [
              "<div>\n",
              "<style scoped>\n",
              "    .dataframe tbody tr th:only-of-type {\n",
              "        vertical-align: middle;\n",
              "    }\n",
              "\n",
              "    .dataframe tbody tr th {\n",
              "        vertical-align: top;\n",
              "    }\n",
              "\n",
              "    .dataframe thead th {\n",
              "        text-align: right;\n",
              "    }\n",
              "</style>\n",
              "<table border=\"1\" class=\"dataframe\">\n",
              "  <thead>\n",
              "    <tr style=\"text-align: right;\">\n",
              "      <th></th>\n",
              "      <th>Date</th>\n",
              "      <th>Rented Bike Count</th>\n",
              "      <th>Hour</th>\n",
              "      <th>Temperature(C)</th>\n",
              "      <th>Humidity(%)</th>\n",
              "      <th>Wind speed (m/s)</th>\n",
              "      <th>Visibility (10m)</th>\n",
              "      <th>Solar Radiation (MJ/m2)</th>\n",
              "      <th>Rainfall(mm)</th>\n",
              "      <th>Snowfall (cm)</th>\n",
              "      <th>Seasons</th>\n",
              "      <th>Holiday</th>\n",
              "      <th>Functioning Day</th>\n",
              "    </tr>\n",
              "  </thead>\n",
              "  <tbody>\n",
              "    <tr>\n",
              "      <th>0</th>\n",
              "      <td>2017-12-01</td>\n",
              "      <td>254</td>\n",
              "      <td>0</td>\n",
              "      <td>-5.2</td>\n",
              "      <td>37</td>\n",
              "      <td>2.2</td>\n",
              "      <td>2000</td>\n",
              "      <td>0.0</td>\n",
              "      <td>0.0</td>\n",
              "      <td>0.0</td>\n",
              "      <td>Winter</td>\n",
              "      <td>No Holiday</td>\n",
              "      <td>Yes</td>\n",
              "    </tr>\n",
              "    <tr>\n",
              "      <th>1</th>\n",
              "      <td>2017-12-01</td>\n",
              "      <td>204</td>\n",
              "      <td>1</td>\n",
              "      <td>-5.5</td>\n",
              "      <td>38</td>\n",
              "      <td>0.8</td>\n",
              "      <td>2000</td>\n",
              "      <td>0.0</td>\n",
              "      <td>0.0</td>\n",
              "      <td>0.0</td>\n",
              "      <td>Winter</td>\n",
              "      <td>No Holiday</td>\n",
              "      <td>Yes</td>\n",
              "    </tr>\n",
              "    <tr>\n",
              "      <th>2</th>\n",
              "      <td>2017-12-01</td>\n",
              "      <td>173</td>\n",
              "      <td>2</td>\n",
              "      <td>-6.0</td>\n",
              "      <td>39</td>\n",
              "      <td>1.0</td>\n",
              "      <td>2000</td>\n",
              "      <td>0.0</td>\n",
              "      <td>0.0</td>\n",
              "      <td>0.0</td>\n",
              "      <td>Winter</td>\n",
              "      <td>No Holiday</td>\n",
              "      <td>Yes</td>\n",
              "    </tr>\n",
              "    <tr>\n",
              "      <th>3</th>\n",
              "      <td>2017-12-01</td>\n",
              "      <td>107</td>\n",
              "      <td>3</td>\n",
              "      <td>-6.2</td>\n",
              "      <td>40</td>\n",
              "      <td>0.9</td>\n",
              "      <td>2000</td>\n",
              "      <td>0.0</td>\n",
              "      <td>0.0</td>\n",
              "      <td>0.0</td>\n",
              "      <td>Winter</td>\n",
              "      <td>No Holiday</td>\n",
              "      <td>Yes</td>\n",
              "    </tr>\n",
              "    <tr>\n",
              "      <th>4</th>\n",
              "      <td>2017-12-01</td>\n",
              "      <td>78</td>\n",
              "      <td>4</td>\n",
              "      <td>-6.0</td>\n",
              "      <td>36</td>\n",
              "      <td>2.3</td>\n",
              "      <td>2000</td>\n",
              "      <td>0.0</td>\n",
              "      <td>0.0</td>\n",
              "      <td>0.0</td>\n",
              "      <td>Winter</td>\n",
              "      <td>No Holiday</td>\n",
              "      <td>Yes</td>\n",
              "    </tr>\n",
              "  </tbody>\n",
              "</table>\n",
              "</div>"
            ],
            "text/plain": [
              "        Date  Rented Bike Count  Hour  ...  Seasons     Holiday  Functioning Day\n",
              "0 2017-12-01                254     0  ...   Winter  No Holiday              Yes\n",
              "1 2017-12-01                204     1  ...   Winter  No Holiday              Yes\n",
              "2 2017-12-01                173     2  ...   Winter  No Holiday              Yes\n",
              "3 2017-12-01                107     3  ...   Winter  No Holiday              Yes\n",
              "4 2017-12-01                 78     4  ...   Winter  No Holiday              Yes\n",
              "\n",
              "[5 rows x 13 columns]"
            ]
          },
          "metadata": {},
          "execution_count": 17
        }
      ]
    },
    {
      "cell_type": "markdown",
      "metadata": {
        "id": "bWqIDFypVLbc"
      },
      "source": [
        "4. Please build a linear regression model to predict rented bike count by choosing appropriate independentvariables."
      ]
    },
    {
      "cell_type": "code",
      "metadata": {
        "id": "kK8-1YxQi7QF"
      },
      "source": [
        "from sklearn.model_selection import train_test_split\n",
        "from sklearn import preprocessing\n",
        "from sklearn import linear_model\n",
        "from sklearn.metrics import r2_score,mean_squared_error\n",
        "from sklearn.linear_model import Ridge\n",
        "from sklearn.model_selection import GridSearchCV\n",
        "from sklearn.linear_model import Lasso\n"
      ],
      "execution_count": 18,
      "outputs": []
    },
    {
      "cell_type": "markdown",
      "metadata": {
        "id": "bf4yji5s-fiq"
      },
      "source": [
        "creating variables\n"
      ]
    },
    {
      "cell_type": "code",
      "metadata": {
        "id": "UlEU0NhZbsrp"
      },
      "source": [
        "# variable that will distinguish between night and day\n",
        "data['label_day_night']=data['Hour'].apply(lambda x : 'Night' if (x >20 or x<5) else( 'Day'))"
      ],
      "execution_count": 19,
      "outputs": []
    },
    {
      "cell_type": "code",
      "metadata": {
        "id": "cpTTYXB6-ipA"
      },
      "source": [
        "# variable for month and weekday\n",
        "data['WeekDay']=data[\"Date\"].dt.day_name()\n",
        "data['month']=data[\"Date\"].dt.month"
      ],
      "execution_count": 21,
      "outputs": []
    },
    {
      "cell_type": "code",
      "metadata": {
        "colab": {
          "base_uri": "https://localhost:8080/",
          "height": 294
        },
        "id": "CrR6GaWjdltz",
        "outputId": "595d5d9f-4765-4588-a0b5-9b93b3391cde"
      },
      "source": [
        "data.plot(x='Date',y='Rented Bike Count',kind='line')"
      ],
      "execution_count": 27,
      "outputs": [
        {
          "output_type": "execute_result",
          "data": {
            "text/plain": [
              "<matplotlib.axes._subplots.AxesSubplot at 0x7f18179e0b90>"
            ]
          },
          "metadata": {},
          "execution_count": 27
        },
        {
          "output_type": "display_data",
          "data": {
            "image/png": "[encoded data removed]",
            "text/plain": [
              "<Figure size 432x288 with 1 Axes>"
            ]
          },
          "metadata": {
            "needs_background": "light"
          }
        }
      ]
    },
    {
      "cell_type": "code",
      "metadata": {
        "id": "tOIOhQzEi_a1"
      },
      "source": [
        "reporting={}\n",
        "X_LinearRegression=data.drop(['Rented Bike Count','Date','Seasons','Holiday','label_day_night','Functioning Day','WeekDay'],axis =1)\n",
        "y=data.iloc[:,1]\n",
        "X_train,X_test,y_train,y_test=train_test_split(X_LinearRegression,y,test_size=0.27)"
      ],
      "execution_count": 25,
      "outputs": []
    },
    {
      "cell_type": "code",
      "metadata": {
        "id": "c3j8gwFdd3v4"
      },
      "source": [
        "regr = linear_model.LinearRegression()\n",
        "fitregr=regr.fit(X_train, y_train)\n",
        "predregrtrain=fitregr.predict(X_train)\n",
        "predregrtest=fitregr.predict(X_test)"
      ],
      "execution_count": 28,
      "outputs": []
    },
    {
      "cell_type": "code",
      "metadata": {
        "colab": {
          "base_uri": "https://localhost:8080/"
        },
        "id": "X2o9lGlReBmz",
        "outputId": "ce482fdd-47d6-49df-cd87-5d11b2d61bd8"
      },
      "source": [
        "\n",
        "print('Linear model intercept: {} and the coefficients are: {}'\n",
        "     .format(fitregr.intercept_,fitregr.coef_))"
      ],
      "execution_count": 30,
      "outputs": [
        {
          "output_type": "stream",
          "name": "stdout",
          "text": [
            "Linear model intercept: 417.6646983183892 and the coefficients are: [ 2.73297672e+01  3.15675715e+01 -7.73061218e+00  4.72273261e+00\n",
            "  1.01924773e-02 -7.47348593e+01 -6.93250595e+01  1.46833127e+01\n",
            "  7.51140866e+00]\n"
          ]
        }
      ]
    },
    {
      "cell_type": "markdown",
      "metadata": {
        "id": "C8ytT5THfKw6"
      },
      "source": [
        "the above model will be in the form of y= coefficient*x + intercept\n",
        "\n",
        "the value of coefficient is high that will affect the accuracy score"
      ]
    },
    {
      "cell_type": "code",
      "metadata": {
        "colab": {
          "base_uri": "https://localhost:8080/"
        },
        "id": "eu72STJ3fKYX",
        "outputId": "7215ebb6-09c0-4ffa-d64d-485e5fe1f7f7"
      },
      "source": [
        "train_set_r2 = r2_score(y_train, predregrtrain)\n",
        "print('Linear model, R2 train score is : {}'.format(train_set_r2))\n",
        "test_set_r2 = r2_score(y_test, predregrtest)\n",
        "print('Linear model, R2 test score is : {}'.format(test_set_r2))"
      ],
      "execution_count": 39,
      "outputs": [
        {
          "output_type": "stream",
          "name": "stdout",
          "text": [
            "Linear model, R2 train score is : 0.47627645800845797\n",
            "Linear model, R2 test score is : 0.4578786978194599\n"
          ]
        }
      ]
    },
    {
      "cell_type": "code",
      "metadata": {
        "id": "h6yDL4JFgrjq"
      },
      "source": [
        "#To improve the score we need to use either ridge regression or lasso regression"
      ],
      "execution_count": null,
      "outputs": []
    },
    {
      "cell_type": "code",
      "metadata": {
        "id": "cSPXPiBwg1Gt"
      },
      "source": [
        ""
      ],
      "execution_count": null,
      "outputs": []
    },
    {
      "cell_type": "markdown",
      "metadata": {
        "id": "SxbZvWvEgWQ1"
      },
      "source": [
        ""
      ]
    }
  ]
}